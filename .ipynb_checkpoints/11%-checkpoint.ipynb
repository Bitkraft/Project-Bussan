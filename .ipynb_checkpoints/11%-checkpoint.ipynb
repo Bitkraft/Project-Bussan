{
 "cells": [
  {
   "cell_type": "code",
   "execution_count": 7,
   "metadata": {
    "collapsed": true
   },
   "outputs": [],
   "source": [
    "import numpy as np\n",
    "import pandas as pd"
   ]
  },
  {
   "cell_type": "code",
   "execution_count": 94,
   "metadata": {},
   "outputs": [],
   "source": [
    "df_bill = pd.read_csv('bill.csv')\n",
    "# print(df_bill)\n",
    "\n",
    "df_payment = pd.read_csv('payment.csv')\n",
    "# print(df_payment[\"Pending\"])"
   ]
  },
  {
   "cell_type": "code",
   "execution_count": 95,
   "metadata": {
    "collapsed": true
   },
   "outputs": [],
   "source": [
    "df_payment[\"Date\"] = pd.to_datetime(df_payment.Date)\n",
    "df_bill[\"Date\"] = pd.to_datetime(df_bill.Date)\n",
    "sorted_payment = df_payment.sort_values('Date')"
   ]
  },
  {
   "cell_type": "code",
   "execution_count": 96,
   "metadata": {},
   "outputs": [
    {
     "name": "stdout",
     "output_type": "stream",
     "text": [
      "Payment of:  1894 was made on 2016-10-31 00:00:00\n",
      "Total payment including any prev balance: 1894\n",
      "--------------------------------------\n",
      "Paid:  230.6222222222222\n",
      "Bill: nan\n",
      "Paid:  721.1111111111111\n",
      "Bill: nan\n"
     ]
    },
    {
     "ename": "ValueError",
     "evalue": "could not convert string to float: 'nan,nan'",
     "output_type": "error",
     "traceback": [
      "\u001b[0;31m---------------------------------------------------------------------------\u001b[0m",
      "\u001b[0;31mValueError\u001b[0m                                Traceback (most recent call last)",
      "\u001b[0;32m<ipython-input-96-bca9eaba0768>\u001b[0m in \u001b[0;36m<module>\u001b[0;34m()\u001b[0m\n\u001b[1;32m     26\u001b[0m \u001b[0;34m\u001b[0m\u001b[0m\n\u001b[1;32m     27\u001b[0m     \u001b[0mbills_string\u001b[0m \u001b[0;34m=\u001b[0m  \u001b[0;34m\",\"\u001b[0m\u001b[0;34m.\u001b[0m\u001b[0mjoin\u001b[0m\u001b[0;34m(\u001b[0m\u001b[0mbills\u001b[0m\u001b[0;34m)\u001b[0m\u001b[0;34m\u001b[0m\u001b[0m\n\u001b[0;32m---> 28\u001b[0;31m     \u001b[0mdf_payment\u001b[0m\u001b[0;34m.\u001b[0m\u001b[0mset_value\u001b[0m\u001b[0;34m(\u001b[0m\u001b[0mindex\u001b[0m\u001b[0;34m,\u001b[0m \u001b[0;34m\"bill_id\"\u001b[0m\u001b[0;34m,\u001b[0m \u001b[0mbills_string\u001b[0m\u001b[0;34m)\u001b[0m\u001b[0;34m\u001b[0m\u001b[0m\n\u001b[0m\u001b[1;32m     29\u001b[0m     \u001b[0mprint\u001b[0m\u001b[0;34m(\u001b[0m\u001b[0;34m\"Paid:\"\u001b[0m\u001b[0;34m,\u001b[0m \u001b[0;34m\",\"\u001b[0m\u001b[0;34m.\u001b[0m\u001b[0mjoin\u001b[0m\u001b[0;34m(\u001b[0m\u001b[0mbills\u001b[0m\u001b[0;34m)\u001b[0m\u001b[0;34m)\u001b[0m\u001b[0;34m\u001b[0m\u001b[0m\n\u001b[1;32m     30\u001b[0m     \u001b[0mprint\u001b[0m\u001b[0;34m(\u001b[0m\u001b[0;34m\"---------------------------------------\"\u001b[0m\u001b[0;34m)\u001b[0m\u001b[0;34m\u001b[0m\u001b[0m\n",
      "\u001b[0;32m~/anaconda3/lib/python3.6/site-packages/pandas/core/frame.py\u001b[0m in \u001b[0;36mset_value\u001b[0;34m(self, index, col, value, takeable)\u001b[0m\n\u001b[1;32m   1854\u001b[0m             \u001b[0mseries\u001b[0m \u001b[0;34m=\u001b[0m \u001b[0mself\u001b[0m\u001b[0;34m.\u001b[0m\u001b[0m_get_item_cache\u001b[0m\u001b[0;34m(\u001b[0m\u001b[0mcol\u001b[0m\u001b[0;34m)\u001b[0m\u001b[0;34m\u001b[0m\u001b[0m\n\u001b[1;32m   1855\u001b[0m             \u001b[0mengine\u001b[0m \u001b[0;34m=\u001b[0m \u001b[0mself\u001b[0m\u001b[0;34m.\u001b[0m\u001b[0mindex\u001b[0m\u001b[0;34m.\u001b[0m\u001b[0m_engine\u001b[0m\u001b[0;34m\u001b[0m\u001b[0m\n\u001b[0;32m-> 1856\u001b[0;31m             \u001b[0mengine\u001b[0m\u001b[0;34m.\u001b[0m\u001b[0mset_value\u001b[0m\u001b[0;34m(\u001b[0m\u001b[0mseries\u001b[0m\u001b[0;34m.\u001b[0m\u001b[0m_values\u001b[0m\u001b[0;34m,\u001b[0m \u001b[0mindex\u001b[0m\u001b[0;34m,\u001b[0m \u001b[0mvalue\u001b[0m\u001b[0;34m)\u001b[0m\u001b[0;34m\u001b[0m\u001b[0m\n\u001b[0m\u001b[1;32m   1857\u001b[0m             \u001b[0;32mreturn\u001b[0m \u001b[0mself\u001b[0m\u001b[0;34m\u001b[0m\u001b[0m\n\u001b[1;32m   1858\u001b[0m         \u001b[0;32mexcept\u001b[0m \u001b[0;34m(\u001b[0m\u001b[0mKeyError\u001b[0m\u001b[0;34m,\u001b[0m \u001b[0mTypeError\u001b[0m\u001b[0;34m)\u001b[0m\u001b[0;34m:\u001b[0m\u001b[0;34m\u001b[0m\u001b[0m\n",
      "\u001b[0;32mpandas/_libs/index.pyx\u001b[0m in \u001b[0;36mpandas._libs.index.IndexEngine.set_value\u001b[0;34m()\u001b[0m\n",
      "\u001b[0;32mpandas/_libs/index.pyx\u001b[0m in \u001b[0;36mpandas._libs.index.IndexEngine.set_value\u001b[0;34m()\u001b[0m\n",
      "\u001b[0;32mpandas/_libs/src/util.pxd\u001b[0m in \u001b[0;36mutil.set_value_at\u001b[0;34m()\u001b[0m\n",
      "\u001b[0;32mpandas/_libs/src/util.pxd\u001b[0m in \u001b[0;36mutil.set_value_at_unsafe\u001b[0;34m()\u001b[0m\n",
      "\u001b[0;31mValueError\u001b[0m: could not convert string to float: 'nan,nan'"
     ]
    }
   ],
   "source": [
    "payment = 0\n",
    "for index, row in sorted_payment.iterrows():\n",
    "    total_gone = 0\n",
    "    payment = payment + int(row[\"Pending\"])\n",
    "    print(\"Payment of: \",row[\"Pending\"], \"was made on\", row[\"Date\"])\n",
    "    print(\"Total payment including any prev balance:\", payment)\n",
    "    print(\"--------------------------------------\")\n",
    "\n",
    "    bills_before_date = df_bill.loc[(df_bill[\"Date\"] <= row[\"Date\"]) & (df_bill[\"payment_id\"]).isnull()]\n",
    "    \n",
    "    sorted_bill = bills_before_date.sort_values(\"Amount\")\n",
    "#     print(\"************************\")\n",
    "#     print(\"Sorted array with amount and data:\")\n",
    "#     print(sorted_bill)\n",
    "#     print(\"**************************\")\n",
    "    bills = []\n",
    "    for i, bill in sorted_bill.iterrows():\n",
    "        if bill[\"Amount\"]/0.9 <= payment:\n",
    "            print(\"Paid: \", bill[\"Amount\"]/0.9)\n",
    "            total_gone = total_gone + bill[\"Amount\"]/0.9\n",
    "            payment = payment - bill[\"Amount\"]/0.9\n",
    "            bills.append(str(bill[\"bill_id\"]))\n",
    "            print(\"Bill:\",bill)\n",
    "            df_bill.set_value(i, \"payment_id\", row[\"payment_id\"])\n",
    "            df_bill.set_value(i, \"after_tax\", bill[\"Amount\"]/0.9)\n",
    "    \n",
    "    bills_string =  \",\".join(bills)\n",
    "    df_payment.set_value(index, \"bill_id\", bills_string)\n",
    "    print(\"Paid:\", \",\".join(bills))\n",
    "    print(\"---------------------------------------\")\n",
    "    print(\"Total Paid:\", total_gone)\n",
    "    print(\"What was left: \", payment)\n",
    "    print(\"_______________________________________\")"
   ]
  },
  {
   "cell_type": "code",
   "execution_count": 93,
   "metadata": {},
   "outputs": [],
   "source": [
    "# print(df_payment)\n",
    "# df_payment.to_csv(\"payment_11.csv\", sep='\\t')\n",
    "writer = pd.ExcelWriter('output.xlsx')\n",
    "df_bill.to_excel(writer,'bill')\n",
    "df_payment.to_excel(writer,'payment')\n",
    "writer.save()"
   ]
  },
  {
   "cell_type": "code",
   "execution_count": null,
   "metadata": {
    "collapsed": true
   },
   "outputs": [],
   "source": []
  }
 ],
 "metadata": {
  "kernelspec": {
   "display_name": "Python 3",
   "language": "python",
   "name": "python3"
  },
  "language_info": {
   "codemirror_mode": {
    "name": "ipython",
    "version": 3
   },
   "file_extension": ".py",
   "mimetype": "text/x-python",
   "name": "python",
   "nbconvert_exporter": "python",
   "pygments_lexer": "ipython3",
   "version": "3.6.2"
  }
 },
 "nbformat": 4,
 "nbformat_minor": 2
}
